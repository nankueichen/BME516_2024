{
 "cells": [
  {
   "cell_type": "markdown",
   "id": "fee53b13",
   "metadata": {
    "tags": []
   },
   "source": [
    "`2024-01-16`\n",
    "# Signals and Systems"
   ]
  },
  {
   "cell_type": "markdown",
   "id": "9cbd064f-20ab-46ee-be28-d81d582da857",
   "metadata": {},
   "source": [
    "### First, we will explain the basic concept of signals and system"
   ]
  },
  {
   "cell_type": "markdown",
   "id": "2e360c44",
   "metadata": {},
   "source": [
    "___\n",
    "\n",
    "<!-- ![object](Signals_and_system/1.png) -->\n",
    "* What is an object? \n",
    "* What are signals? \n",
    "* What does \"continuous\" mean?\n",
    "</br>\n",
    "<div align=\"center\">\n",
    "<a href=\"object\" target=\"_blank\">\n",
    "<img src=\"Signals_and_system/1.png\" width=\"150\" alt=\"Pulseq logo\"></img>\n",
    "</a>\n",
    "</div>\n"
   ]
  },
  {
   "cell_type": "markdown",
   "id": "022b16fc",
   "metadata": {},
   "source": [
    "___\n",
    "<!-- ![object](Signals_and_system/1.png) -->\n",
    "* What is a __system__? </br>\n",
    "<div align=\"center\">\n",
    "<a href=\"object\" target=\"_blank\">\n",
    "<img src=\"Signals_and_system/glasses.jpeg\" width=\"250\" alt=\"Pulseq logo\"></img>\n",
    "</a>\n",
    "</div>\n",
    "\n"
   ]
  },
  {
   "cell_type": "markdown",
   "id": "56b18f71",
   "metadata": {},
   "source": [
    "___\n",
    "\n",
    "<!-- ![object](Signals_and_system/1.png) -->\n",
    "* What is a \"response\"?\n",
    "* What is a \"measurement\"?\n",
    "</br>\n",
    "<div align=\"center\">\n",
    "<a href=\"object\" target=\"_blank\">\n",
    "<img src=\"Signals_and_system/2.png\" width=\"150\" alt=\"Pulseq logo\"></img>\n",
    "</a>\n",
    "</div>\n",
    "\n"
   ]
  },
  {
   "cell_type": "markdown",
   "id": "b42eed63-340d-4e06-83b9-ce9dc03ecceb",
   "metadata": {},
   "source": [
    "* Are the \"responses\" some type of \"signals\"?\n",
    "* Are the \"responses\" continuous?"
   ]
  },
  {
   "cell_type": "markdown",
   "id": "1639c327",
   "metadata": {},
   "source": [
    "___\n",
    "\n",
    "<!-- ![object](Signals_and_system/1.png) -->\n",
    "* What is \"shift-invariant\"? </br>\n",
    "<div align=\"center\">\n",
    "<a href=\"object\" target=\"_blank\">\n",
    "<img src=\"Signals_and_system/3.png\" width=\"150\" alt=\"Pulseq logo\"></img>\n",
    "</a>\n",
    "</div>\n",
    "\n"
   ]
  },
  {
   "cell_type": "markdown",
   "id": "95a32fc5",
   "metadata": {},
   "source": [
    "___\n",
    "\n",
    "<!-- ![object](Signals_and_system/1.png) -->\n",
    "* What does \"spread\" mean in signal processing? </br>\n",
    "<div align=\"center\">\n",
    "<a href=\"object\" target=\"_blank\">\n",
    "<img src=\"Signals_and_system/5.png\" width=\"150\" alt=\"Pulseq logo\"></img>\n",
    "</a>\n",
    "</div>\n",
    "\n"
   ]
  },
  {
   "cell_type": "markdown",
   "id": "10448244",
   "metadata": {},
   "source": [
    "___\n",
    "\n",
    "<!-- ![object](Signals_and_system/1.png) -->\n",
    "* What is \"point impulse\"? \n",
    "* What is a \"point spread function\" (PSF)? \n",
    "* What is $\\delta(x,y)$ </br>\n",
    "<div align=\"center\">\n",
    "<a href=\"object\" target=\"_blank\">\n",
    "<img src=\"Signals_and_system/7.png\" width=\"180\" alt=\"Pulseq logo\"></img>\n",
    "</a>\n",
    "</div>\n",
    "\n"
   ]
  },
  {
   "cell_type": "markdown",
   "id": "126d360a",
   "metadata": {},
   "source": [
    "___\n",
    "\n",
    "<!-- ![object](Signals_and_system/1.png) -->\n",
    "* What is a \"linear shift-invariant\" (LSI) system?\n",
    "* What is \"convolution\" in signal processing?\n",
    "\n",
    "</br>\n",
    "<div align=\"center\">\n",
    "<a href=\"object\" target=\"_blank\">\n",
    "<img src=\"Signals_and_system/6.png\" width=\"150\" alt=\"Pulseq logo\"></img>\n",
    "</a>\n",
    "</div>\n",
    "\n"
   ]
  },
  {
   "cell_type": "markdown",
   "id": "1bdf2016",
   "metadata": {},
   "source": [
    "___\n",
    "\n",
    "<!-- ![object](Signals_and_system/1.png) -->\n",
    "* What are \"continuous\" and \"discrete\" signals?\n",
    "\n",
    "</br>\n",
    "<div align=\"center\">\n",
    "<a href=\"object\" target=\"_blank\">\n",
    "<img src=\"Signals_and_system/scale3.png\" width=\"350\" alt=\"Pulseq logo\"></img>\n",
    "</a>\n",
    "</div>\n",
    "\n"
   ]
  },
  {
   "cell_type": "markdown",
   "id": "a147cd68",
   "metadata": {},
   "source": [
    "___\n",
    "\n",
    "<!-- ![object](Signals_and_system/1.png) -->\n",
    "* Are these continuous or discrete signals?\n",
    "* What is \"sampling\"?\n",
    "\n",
    "</br>\n",
    "<div align=\"center\">\n",
    "<a href=\"object\" target=\"_blank\">\n",
    "<img src=\"Signals_and_system/scale1.png\" width=\"250\" alt=\"Pulseq logo\"></img>\n",
    "</a>\n",
    "</div>\n",
    "\n"
   ]
  },
  {
   "cell_type": "markdown",
   "id": "51a7a299",
   "metadata": {},
   "source": [
    "___\n",
    "\n",
    "<!-- ![object](Signals_and_system/1.png) -->\n",
    "* Further discussion of sampling\n",
    "\n",
    "</br>\n",
    "<div align=\"center\">\n",
    "<a href=\"object\" target=\"_blank\">\n",
    "<img src=\"Signals_and_system/sampling2.gif\" width=\"500\" alt=\"Pulseq logo\"></img>\n",
    "</a>\n"
   ]
  },
  {
   "cell_type": "markdown",
   "id": "5ab67f80-fe03-4222-b2e3-54d71a583db8",
   "metadata": {},
   "source": [
    "___\n",
    "* Further discussion of sampling: Spatial resolution and dynamic range of images\n",
    "\n",
    "</br>\n",
    "<div align=\"center\">\n",
    "<a href=\"object\" target=\"_blank\">\n",
    "<img src=\"Signals_and_system/resolution_dynamicrange.png\" width=\"500\" alt=\"Pulseq logo\"></img>\n",
    "</a>\n",
    "\n",
    "<a href=\"object\" target=\"_blank\">\n",
    "<img src=\"Signals_and_system/dynamicRange.jpg\" width=\"500\" alt=\"Pulseq logo\"></img>\n",
    "</a>\n"
   ]
  },
  {
   "cell_type": "markdown",
   "id": "56f5c0e5-43b7-4d43-be12-82c9b9cd00d0",
   "metadata": {
    "tags": []
   },
   "source": [
    "\n",
    "* Further discussion of sampling: Nyquist frequency of sampling\n",
    "    * [Floaty bird](https://www.youtube.com/watch?v=TX4U9QRbviA)\n",
    "    * [Floaty helicopter](https://www.youtube.com/watch?v=yr3ngmRuGUc)\n",
    "\n",
    "\n",
    "</br>\n",
    "<div align=\"center\">\n",
    "<a href=\"object\" target=\"_blank\">\n",
    "<img src=\"Signals_and_system/sampling_ex_image.png\" width=\"500\" alt=\"Pulseq logo\"></img>\n",
    "</a>\n"
   ]
  },
  {
   "cell_type": "markdown",
   "id": "99660700-cf89-4a26-baca-6ee492aac360",
   "metadata": {},
   "source": [
    "### Second, we will discuss mathematical presentation of signals and system"
   ]
  },
  {
   "cell_type": "markdown",
   "id": "811d92b5",
   "metadata": {},
   "source": [
    "___\n",
    "Continuous signal (2D):\n",
    "$$f(x,y), \\; -\\infty \\leq x,y \\leq \\infty $$\n",
    "___\n",
    "Continuous signal (1D):\n",
    "$$f(x), \\; -\\infty \\leq x \\leq \\infty $$\n",
    "\n",
    "___\n",
    "__Delta function__: one-dimensional form\n",
    "$$\\delta(x) = 0, \\; x \\neq 0 $$\n",
    "$$\\int_{-\\infty}^\\infty f(x) \\delta(x) dx = f(0) $$\n",
    "\n",
    "___\n",
    "\n",
    "<div align=\"center\">\n",
    "<a href=\"object\" target=\"_blank\">\n",
    "<img src=\"Signals_and_system/Dirac_distribution_PDF.svg\" width=\"300\" alt=\" \"></img>\n",
    "</br>\n",
    "</a>\n",
    "light detection; shutter speed; exposure time </br>\n",
    "<a href=\"object\" target=\"_blank\">\n",
    "<img src=\"Signals_and_system/Dirac_function_approximation.gif\" width=\"150\" alt=\" \"></img>\n",
    "</br>\n",
    "</a>\n",
    "light detection; pinhole size </br>\n",
    "</div>\n",
    "\n",
    "\n",
    "___\n",
    "__Delta function__: two-dimensional form\n",
    "$$\\delta(x,y) = 0, \\; (x,y) \\neq (0,0) $$\n",
    "$$\\int_{-\\infty}^\\infty \\int_{-\\infty}^\\infty f(x,y) \\delta(x,y) dx\\,dy= f(0,0) $$\n",
    "\n",
    "\n",
    "\n",
    "___\n",
    "Sifting property\n",
    "$$\\delta(x-x_0,y-y_0) = 0, (x,y) \\neq (x_0,y_0) $$\n",
    "$$\\int_{-\\infty}^\\infty \\int_{-\\infty}^\\infty f(x,y) \\delta(x-x_0,y-y_0) dx\\,dy= f(x_0,y_0) $$\n",
    "\n",
    "___\n",
    "Scaling property\n",
    "$$\n",
    "\\begin{align*}\n",
    "& \\int_{-\\infty}^\\infty \\int_{-\\infty}^\\infty f(x,y) \\delta(ax,by) dx\\,dy \\\\\n",
    "& =\\frac{1}{ab} \\int_{-\\infty}^\\infty \\int_{-\\infty}^\\infty f(\\frac{x}{a},\\frac{y}{b}) \\delta(x,y) dx\\,dy \\\\\n",
    "& = \\frac{1}{ab}f(0,0) \\\\\n",
    "& = \\frac{1}{ab} \\int_{-\\infty}^\\infty \\int_{-\\infty}^\\infty f(x,y) \\delta(x,y) dx\\,dy \\\\\n",
    "& = \\int_{-\\infty}^\\infty \\int_{-\\infty}^\\infty f(x,y) \\frac{\\delta(x,y)}{ab} dx\\,dy\n",
    "\\end{align*}\n",
    "$$\n",
    "Therefore,\n",
    "$$\\delta(ax,by) = \\frac{\\delta(x,y)}{ab} $$\n",
    "___\n",
    "__$\\delta(x,y)$ is an even function: </br> When $a=-1,\\,b=-1$, we have $\\delta(-x,-y) = \\delta(x,y)$__\n",
    "\n",
    "___\n",
    "Comb function\n",
    "$$\\mathrm{comb}(x,y) = \\sum_{m = -\\infty}^{\\infty} \\sum_{n = -\\infty}^{\\infty} \\delta(x-m,y-n)$$ with m and n being integers\n",
    "\n",
    "Comb and sampling function\n",
    "$$ \\delta_s(x,y;\\Delta x, \\Delta y) = \\sum_{m=-\\infty}^{\\infty} \\sum_{n=-\\infty}^{\\infty} \\delta(x-m\\Delta x,y-n \\Delta y)  $$\n",
    "\n",
    "<div align=\"center\">\n",
    "</a>\n",
    "<a href=\"object\" target=\"_blank\">\n",
    "<img src=\"Signals_and_system/Dirac_comb.svg.png\" width=\"250\" alt=\" \"></img>\n",
    "</br>\n",
    "</a>\n",
    "</div>\n",
    "\n",
    "__Exercise__ </br>\n",
    "show that \n",
    "$$ \\delta_s(x,y; \\Delta x, \\Delta y) = \\frac{1}{\\Delta x \\Delta y} \\mathrm{comb} (\\frac{x}{\\Delta x}, \\frac{y}{\\Delta y})  $$ \n",
    "___\n",
    "Rect function\n",
    "$$ \\mathrm{rect}(x,y)= \\left\\{%\n",
    "\\begin{array}%\n",
    "1, & \\textrm{for } |x| \\lt \\frac{1}{2} \\textrm{ and } |y| \\lt \\frac{1}{2}\\\\\n",
    "0, & \\textrm{for } |x| \\gt \\frac{1}{2} \\textrm{ or } |y| \\gt \\frac{1}{2}\n",
    "\\end{array}%\n",
    "\\right. %\n",
    "$$\n",
    "\n",
    "<div align=\"center\">\n",
    "</a>\n",
    "<a href=\"object\" target=\"_blank\">\n",
    "<img src=\"Signals_and_system/Rectangular_function.svg\" width=\"250\" alt=\" \"></img>\n",
    "</br>\n",
    "</a>\n",
    "</div>\n",
    "\n",
    "__Exercise__ </br>\n",
    "Show that we can use the product \n",
    "$$ f(x,y)\\, \\mathrm{rect}(\\frac{x-x_0}{X},\\frac{y-y_0}{Y}) $$\n",
    "to select that part of signal $f(x,y)$ centered at a point $f(x_0,y_0)$ of the plane with width $X$ and height $Y$, and set the rest to zero.\n",
    "___\n",
    "Sinc function (1-dimensional form)\n",
    "$$ \\mathrm{sinc}(x)= \\left\\{%\n",
    "\\begin{array}%\n",
    "1, & x=0 \\\\\n",
    "\\frac{\\sin (\\pi x)}{\\pi x}, & \\textrm{otherwise} \n",
    "\\end{array}%\n",
    "\\right. %\n",
    "$$\n",
    "\n",
    "Sinc function (2-dimensional form)\n",
    "$$ \\mathrm{sinc}(x,y)= \\left\\{%\n",
    "\\begin{array}%\n",
    "1, & x=0 \\textrm{ and } y=0\\\\\n",
    "\\frac{\\sin (\\pi x) \\sin (\\pi y)}{\\pi x y}, & \\textrm{otherwise} \n",
    "\\end{array}%\n",
    "\\right. %\n",
    "$$\n",
    "\n",
    "Note that \n",
    "$$ \\mathrm{sinc}(x,y) = \\mathrm{sinc}(x) \\, \\mathrm{sinc}(y)$$ \n",
    "\n",
    "![rect and sinc function](Signals_and_system/rect_sinc.png)\n",
    "\n"
   ]
  },
  {
   "cell_type": "markdown",
   "id": "1a8bccdd",
   "metadata": {},
   "source": [
    "__Homework__: plot sinc waveform with python or matlab or any other computer program. \n",
    "__Exercise__: Modify the code below to extend the range of x, and see how the sinc waveform changes"
   ]
  },
  {
   "cell_type": "code",
   "execution_count": 4,
   "id": "a7accb21",
   "metadata": {
    "tags": []
   },
   "outputs": [
    {
     "name": "stdout",
     "output_type": "stream",
     "text": [
      "x = [-5.    -4.999 -4.998 ...  4.997  4.998  4.999]\n",
      "y = [3.89817183e-17 2.00039679e-04 4.00157431e-04 ... 6.00351328e-04\n",
      " 4.00157430e-04 2.00039678e-04]\n"
     ]
    },
    {
     "data": {
      "image/png": "[encoded data removed]",
      "text/plain": [
       "<Figure size 640x480 with 1 Axes>"
      ]
     },
     "metadata": {},
     "output_type": "display_data"
    }
   ],
   "source": [
    "# Here we visualize sinc function for a given range of x\n",
    "\n",
    "import numpy as np \n",
    "import matplotlib.pyplot as plt \n",
    "\n",
    "x = np.arange(-5,5,0.001) \n",
    "print(f'x = {x}')\n",
    "y = np.sin(np.pi * x) / (np.pi*x)\n",
    "print(f'y = {y}')\n",
    "\n",
    "plt.title(\"sinc waveform\") \n",
    "plt.xlabel(\"x\") \n",
    "plt.ylabel(\"sinc(x)\") \n",
    "plt.plot(x,y) \n",
    "plt.show()"
   ]
  },
  {
   "cell_type": "markdown",
   "id": "35107778-f98e-485d-b93a-e81452975051",
   "metadata": {},
   "source": [
    "__System__: input and output"
   ]
  },
  {
   "cell_type": "markdown",
   "id": "bb790d5b",
   "metadata": {},
   "source": [
    "\n",
    "\n",
    "A continous-to-continous system: input-output equation of system\n",
    "$$ g(x,y) = S [f(x,y)] $$\n",
    "___\n",
    "A linear system\n",
    "$$ S\\Bigg[\\sum_{k=1}^K \\omega_k f_k(x,y)] \\Bigg] = \\sum_{k=1}^K \\omega_k S[f_k(x,y)] $$ \n",
    "___\n",
    "Impulse response function or point-spread function (PSF)\n",
    "$$ h(x,y;x_0,y_0) = S[\\delta(x-x_0,y-y_0)] $$\n",
    "\n",
    "___\n",
    "Superposition integral\n",
    "$$ g(x,y) = \\int_{-\\infty}^\\infty \\int_{-\\infty}^\\infty f(x_0,y_0) h(x,y;x_0,y_0)\\, dx_0 \\, dy_0$$\n",
    "___\n",
    "Shift invariance\n",
    "$$\n",
    "\\begin{align*}\n",
    " & g(x,y) = S[f(x,y)] \\\\\n",
    "& g(x-x_0,y-y_0) = S[f(x-x_0,y-y_0)]\n",
    "\\end{align*}\n",
    "$$\n",
    "___\n",
    "Linear shift-invariant (LSI): convolution integral\n",
    "$$ g(x,y) = \\int_{-\\infty}^\\infty \\int_{-\\infty}^\\infty f(x_0,y_0) h(x-x_0,y-y_0)\\, dx_0 \\, dy_0 $$\n",
    "where \n",
    "$ h(x,y) = S[\\delta(x,y)]$ and $S[\\delta(x-x_0,y-y_0)] = h(x-x_0,y-y_0)$ </br>\n",
    "</br>\n",
    "__Discussion__:\n",
    "What is the difference between $h(x,y;x_0,y_0)$ and $h(x-x_0,y-y_0)$\n",
    "___\n",
    "Linear shift-invariant (LSI): convolution equation\n",
    "$$ g(x,y) = h(x,y) * f(x,y) $$ \n",
    "___\n",
    "__Exercise__ </br> \n",
    "(see example 2.2 of Prince and Links)</br>\n",
    "Consider a continuous system with input-output equation\n",
    "$$ g(x,y) = \\frac{f(x,y)}{3} $$\n",
    "\n",
    "_Question_: Is this system linear and shift-invariant? </br>\n",
    "\n",
    "_Solution_:\n",
    "If $g'(x,y)$ is the response of the system to input $\\sum_{k=1}^K w_k f_k(x,y)$, then\n",
    "\n",
    "$$\n",
    "\\begin{align*}\n",
    "g'(x,y) & = \\frac{\\sum_{k=1}^K w_k f_k(x,y)}{3} \\\\\n",
    "& = \\sum_{k=1}^K w_k \\frac{f_k(x,y)}{3}  \\\\\n",
    "& = \\sum_{k=1}^K w_k g_k(x,y)\n",
    "\\end{align*}\n",
    "$$\n",
    "Therefore, the system is linear. </br>\n",
    "If $g'(x,y)$ is the response of the system to input $f(x-x_0,y-y_o)$, then\n",
    "$$ g'(x,y) = \\frac{f(x-x_0,y-y_0)}{3} = g(x-x_0,y-y_0)$$\n",
    "Therefore, the system is shift-invariant.\n",
    "___\n",
    "__Homework__:  </br>\n",
    "Consider a continous system with input-output equation $g(x,y) = sin(x)f(x,y)$. Is this system linear and shift-invariant?\n",
    "___\n"
   ]
  },
  {
   "cell_type": "markdown",
   "id": "afe96447-00a7-4a0c-892d-5508c5216784",
   "metadata": {},
   "source": [
    "_Explaining example 2.2 of Prince and Links_:\n",
    "\n",
    "__Discussion of linearity__\n",
    "\n",
    "It would be easier that we have two 1D input function $f_1(x)$ and $f_2(x)$. According to the definition the response to each of those two 1D input waveforms will be \n",
    "\n",
    "$$\n",
    "g_1(x) = S(f_1(x)) = \\frac{f_1(x)}{3}\n",
    "$$\n",
    "\n",
    "and\n",
    "\n",
    "$$\n",
    "g_2(x) = S(f_2(x)) = \\frac{f_2(x)}{3}\n",
    "$$\n",
    "\n",
    "Now, assuming we have a new input waveform $2f_1(x) + 4f_2(x)$, then its output function would be \n",
    "\n",
    "$$\n",
    "S(2f_1(x)+4f_2(x)) = \\frac{2f_1(x)+4f_2(x)}{3}\n",
    "$$\n",
    "\n",
    "which could be further represented as $2g_1(x)+4g_2(x)$.\n",
    "\n",
    "Note the response of the new input waveform ($2g_1(x)+4g_2(x)$) has exactly the same linear combination pattern of the input $2f_1(x) + 4f_2(x)$. Therefore we know the system is linear.\n",
    "\n",
    "__Discussion of shift-invariant__\n",
    "\n",
    "First. if $g'(x,y)$ is the response of the system to input $f(x-7,y-9)$, then according to the definition we know\n",
    "\n",
    "$$\n",
    "g'(x,y) = \\frac{f(x-7,y-9)}{3}\n",
    "$$\n",
    "\n",
    "Second, by applying change of variable (i.e., replacing $x$ with $x-7$; and replacing $y$ with $y-9$) to the original definition ($g(x,y)=\\frac{f(x,y)}{3}$), we have \n",
    "\n",
    "\n",
    "\n",
    "$$\n",
    "g(x-7,y-9) = \\frac{f(x-7,y-9)}{3}\n",
    "$$From the above two arguments, we now know that\n",
    "\n",
    "\n",
    "\n",
    "$$\n",
    "g'(x,y) = g(x-7,y-9)\n",
    "$$meaning that we are able to predict the response waveform of a shifted-waveform by simply shifting the known response. Therefore the system is shift invariant."
   ]
  },
  {
   "cell_type": "markdown",
   "id": "e3443fa1-8213-42f9-a03b-f729fab01462",
   "metadata": {},
   "source": [
    "### Third, you could find more material here:"
   ]
  },
  {
   "cell_type": "markdown",
   "id": "e59b753a-2c10-47b0-a2d6-cf9491326e9f",
   "metadata": {
    "tags": []
   },
   "source": [
    "The first five videos of https://www.youtube.com/playlist?list=PLuh62Q4Sv7BUSzx5Jr8Wrxxn-U10qG1et)"
   ]
  },
  {
   "cell_type": "markdown",
   "id": "19c3c542-d4a4-4102-81d9-35b9e95f74f8",
   "metadata": {},
   "source": [
    "___\n",
    "Slides from other professors:\n",
    "http://courses.washington.edu/phys428/lecture%20slides/Lecture02.1.pdf (which is part of Dr. Kinahan's course: http://courses.washington.edu/phys428/http://courses.washington.edu/phys428/ )"
   ]
  },
  {
   "cell_type": "markdown",
   "id": "a45ed21c-0709-43d5-93f9-9741579e56cb",
   "metadata": {},
   "source": [
    "___\n",
    "book chapters:\n",
    "<a href = \"digital_signals_book/1.pdf\"> chapter 1 </a>\n",
    "<a href = \"digital_signals_book/2.pdf\"> chapter 2 </a>\n",
    "<a href = \"digital_signals_book/3.pdf\"> chapter 3 </a>"
   ]
  },
  {
   "cell_type": "code",
   "execution_count": null,
   "id": "d81dfae1-59f0-48a6-90dc-d5b52b75eb35",
   "metadata": {},
   "outputs": [],
   "source": []
  }
 ],
 "metadata": {
  "kernelspec": {
   "display_name": "Python 3 (ipykernel)",
   "language": "python",
   "name": "python3"
  },
  "language_info": {
   "codemirror_mode": {
    "name": "ipython",
    "version": 3
   },
   "file_extension": ".py",
   "mimetype": "text/x-python",
   "name": "python",
   "nbconvert_exporter": "python",
   "pygments_lexer": "ipython3",
   "version": "3.11.5"
  }
 },
 "nbformat": 4,
 "nbformat_minor": 5
}
